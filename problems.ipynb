{
 "cells": [
  {
   "cell_type": "markdown",
   "id": "228b1015",
   "metadata": {},
   "source": [
    "# Assessment problem answers\n",
    "\n",
    "This notebook shows the answers to the assessment problems described in the problems.md file within this repository. All the code shown in this document was done by Guillermo Martín, with relevant references indicated across the notebooks"
   ]
  },
  {
   "cell_type": "code",
   "execution_count": null,
   "id": "6b897d06",
   "metadata": {},
   "outputs": [],
   "source": [
    "# We load all necessary packages (and only allowed ones) to answer the problems stated here: \n",
    "import numpy as np\n",
    "import math"
   ]
  },
  {
   "cell_type": "markdown",
   "id": "d04037d0",
   "metadata": {},
   "source": [
    "## Problem 1: Extending the Lady Tasting Tea"
   ]
  },
  {
   "cell_type": "code",
   "execution_count": null,
   "id": "e717d805",
   "metadata": {},
   "outputs": [],
   "source": [
    "# Defining the variables under consideration\n",
    "total_cups = 12\n",
    "tea_cups = 8 \n",
    "milk_cups = 4  \n",
    "\n",
    "np."
   ]
  }
 ],
 "metadata": {
  "kernelspec": {
   "display_name": "radenv",
   "language": "python",
   "name": "python3"
  },
  "language_info": {
   "codemirror_mode": {
    "name": "ipython",
    "version": 3
   },
   "file_extension": ".py",
   "mimetype": "text/x-python",
   "name": "python",
   "nbconvert_exporter": "python",
   "pygments_lexer": "ipython3",
   "version": "3.11.6"
  }
 },
 "nbformat": 4,
 "nbformat_minor": 5
}
